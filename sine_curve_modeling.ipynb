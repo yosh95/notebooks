{
 "cells": [
  {
   "cell_type": "markdown",
   "id": "89238bd5-15c5-4935-a238-cb8304ec3747",
   "metadata": {},
   "source": [
    "## RNN(Recurrent Neural Network)で正弦波のモデリングを行う\n",
    "\n",
    "このノートブックでは、系列データのモデリング事例として正弦波のモデリングをRNNで行うサンプルを示す。"
   ]
  },
  {
   "cell_type": "code",
   "execution_count": 77,
   "id": "54e6d9d5-26e6-4626-b14a-3c09169812a0",
   "metadata": {},
   "outputs": [],
   "source": [
    "import torch\n",
    "import torch.nn as nn\n",
    "import torch.optim as optim\n",
    "import numpy as np\n",
    "import matplotlib.pyplot as plt\n",
    "\n",
    "# ハイパーパラメータの設定\n",
    "input_size = 1  # 入力は正弦波の1点\n",
    "hidden_size = 20 # 隠れ層のサイズ\n",
    "output_size = 1 # 出力は次の正弦波の1点\n",
    "num_layers = 1 # RNNの層数\n",
    "sequence_length = 30 # 系列の長さ\n",
    "batch_size = 8 # バッチサイズ\n",
    "num_epochs = 500 # エポック数\n",
    "learning_rate = 0.01 # 学習率\n",
    "noise_level = 0.1 # 正弦波に加えるノイズのレベル"
   ]
  },
  {
   "cell_type": "markdown",
   "id": "085ebef9-abc0-438c-8ae8-5e96a6b5276b",
   "metadata": {},
   "source": [
    "**説明:**\n",
    "\n",
    "*   必要なライブラリをインポートし、ハイパーパラメータを設定します。\n",
    "*   `input_size`: 各タイムステップにおける入力データの次元数（正弦波の1点なので1）。\n",
    "*   `hidden_size`: RNNの隠れ層のサイズ。\n",
    "*   `output_size`: 出力の次元数（次のタイムステップの正弦波の値なので1）。\n",
    "*   `num_layers`: RNNの層数。\n",
    "*   `sequence_length`: 時系列データの長さ。\n",
    "*   `batch_size`: ミニバッチのサイズ。\n",
    "*   `num_epochs`: 学習のエポック数。\n",
    "*   `learning_rate`: 学習率。\n",
    "*   `noise_level`: 正弦波に加えるノイズのレベル（標準偏差）。この値を調整することで、モデルのロバスト性を評価できます。"
   ]
  },
  {
   "cell_type": "code",
   "execution_count": 78,
   "id": "c6411755-b468-484f-977c-184b886d8689",
   "metadata": {},
   "outputs": [],
   "source": [
    "# RNNモデルの定義\n",
    "class SimpleRNN(nn.Module):\n",
    "    def __init__(self, input_size, hidden_size, output_size, num_layers):\n",
    "        super(SimpleRNN, self).__init__()\n",
    "        self.hidden_size = hidden_size\n",
    "        self.num_layers = num_layers\n",
    "        self.rnn = nn.RNN(input_size, hidden_size, num_layers, batch_first=True) # RNN層\n",
    "        self.fc = nn.Linear(hidden_size, output_size) # 全結合層\n",
    "\n",
    "    def forward(self, x):\n",
    "        # 初期隠れ状態の作成\n",
    "        h0 = torch.zeros(self.num_layers, x.size(0), self.hidden_size).to(x.device)\n",
    "\n",
    "        # RNN層への入力\n",
    "        out, _ = self.rnn(x, h0)\n",
    "\n",
    "        # 最後のタイムステップの隠れ状態を使用\n",
    "        out = self.fc(out)\n",
    "\n",
    "        return out"
   ]
  },
  {
   "cell_type": "markdown",
   "id": "332936a3-c387-4e3d-86b4-ccc443c98d31",
   "metadata": {},
   "source": [
    "**説明:**\n",
    "\n",
    "*   `SimpleRNN`クラスは、RNNモデルを定義します。\n",
    "*   `__init__`メソッドで、RNN層と全結合層を定義します。\n",
    "    *   `nn.RNN`: RNN層を定義します。`input_size`, `hidden_size`, `num_layers`は、上で定義したハイパーパラメータを使用します。`batch_first=True`は、入力データの形状を`(batch_size, sequence_length, input_size)`とすることを指定します。\n",
    "    *   `nn.Linear`: 全結合層を定義します。RNN層の出力（最後のタイムステップの隠れ状態）を、`output_size`の次元に変換します。\n",
    "*   `forward`メソッドで、順伝播の処理を定義します。\n",
    "    *   `h0`: 初期隠れ状態をゼロで初期化します。形状は`(num_layers, batch_size, hidden_size)`である必要があります。`.to(x.device)`で、入力データと同じデバイス（CPUまたはGPU）に配置します。\n",
    "    *   `out, _ = self.rnn(x, h0)`: RNN層に入力データを渡します。\n",
    "    *   `out = self.fc(out)`: 隠れ状態を全結合層に入力し、出力を得ます。"
   ]
  },
  {
   "cell_type": "code",
   "execution_count": 79,
   "id": "041da788-aa19-417e-abb7-906d7f51c2ab",
   "metadata": {},
   "outputs": [],
   "source": [
    "# デバイスの設定\n",
    "device = torch.device('cuda' if torch.cuda.is_available() else 'cpu')\n",
    "\n",
    "# モデルのインスタンス化\n",
    "model = SimpleRNN(input_size, hidden_size, output_size, num_layers).to(device)\n",
    "\n",
    "# 損失関数と最適化アルゴリズムの定義\n",
    "criterion = nn.MSELoss() # 平均二乗誤差\n",
    "optimizer = optim.Adam(model.parameters(), lr=learning_rate) # Adam optimizer"
   ]
  },
  {
   "cell_type": "markdown",
   "id": "eb7a122f-d018-4c37-a31d-692d309a8fe8",
   "metadata": {},
   "source": [
    "**説明:**\n",
    "\n",
    "*   `device`: CUDAが利用可能な場合はGPUを使用し、そうでない場合はCPUを使用するようにデバイスを設定します。\n",
    "*   `model`: `SimpleRNN`クラスのインスタンスを作成し、指定したデバイスに配置します。\n",
    "*   `criterion`: 損失関数として、平均二乗誤差を使用します。正弦波の予測は回帰問題なので、適切な損失関数です。\n",
    "*   `optimizer`: 最適化アルゴリズムとして、Adamを使用します。"
   ]
  },
  {
   "cell_type": "code",
   "execution_count": 80,
   "id": "633db185-5ef6-439d-a671-6649bba26728",
   "metadata": {},
   "outputs": [],
   "source": [
    "# データの生成 (正弦波にノイズを追加)\n",
    "def generate_sine_wave(sequence_length, batch_size, noise_level=0.1):\n",
    "    time = np.linspace(0, 10, sequence_length + 1, endpoint=True)\n",
    "    sine_wave = np.sin(time)\n",
    "\n",
    "    # ノイズの生成\n",
    "    noise = np.random.normal(0, noise_level, size=sine_wave.shape)\n",
    "    noisy_sine_wave = sine_wave + noise\n",
    "\n",
    "    x = []\n",
    "    y = []\n",
    "    for i in range(sequence_length):\n",
    "        x.append(noisy_sine_wave[i:i+1])\n",
    "        y.append(noisy_sine_wave[i+1:i+2])\n",
    "\n",
    "    x = np.array(x).reshape(sequence_length, 1)\n",
    "    y = np.array(y).reshape(sequence_length, 1)\n",
    "\n",
    "    x = np.tile(x, (batch_size, 1, 1))\n",
    "    y = np.tile(y, (batch_size, 1, 1))\n",
    "\n",
    "    x = torch.tensor(x, dtype=torch.float32).to(device)\n",
    "    y = torch.tensor(y, dtype=torch.float32).to(device)\n",
    "    return x, y"
   ]
  },
  {
   "cell_type": "markdown",
   "id": "06525555-b851-45dd-87bd-6b6cdfdbbf5e",
   "metadata": {},
   "source": [
    "**説明:**\n",
    "\n",
    "*   `generate_sine_wave` 関数は、正弦波にノイズを加えた時系列データを生成します。\n",
    "*   `time = np.linspace(0, 10, sequence_length + 1, endpoint=True)`: 時間軸を作成します。\n",
    "*   `sine_wave = np.sin(time)`: 正弦波を生成します。\n",
    "*   `noise = np.random.normal(0, noise_level, size=sine_wave.shape)`: 正規分布に従うノイズを生成します。`noise_level` は、セル1で定義したハイパーパラメータを使用します。\n",
    "*   `noisy_sine_wave = sine_wave + noise`: 生成されたノイズを正弦波に加算して、ノイズを含んだ正弦波を作成します。\n",
    "*   `x`は入力データ（ノイズが加わった正弦波）、`y`はターゲットデータ（タイムステップを1つずらした正弦波の値）です。"
   ]
  },
  {
   "cell_type": "code",
   "execution_count": 81,
   "id": "45f6618d-6458-4679-96fc-1b06aabef6d6",
   "metadata": {},
   "outputs": [
    {
     "name": "stdout",
     "output_type": "stream",
     "text": [
      "Epoch [10/500], Loss: 0.0363\n",
      "Epoch [20/500], Loss: 0.0237\n",
      "Epoch [30/500], Loss: 0.0165\n",
      "Epoch [40/500], Loss: 0.0159\n",
      "Epoch [50/500], Loss: 0.0163\n",
      "Epoch [60/500], Loss: 0.0159\n",
      "Epoch [70/500], Loss: 0.0120\n",
      "Epoch [80/500], Loss: 0.0191\n",
      "Epoch [90/500], Loss: 0.0217\n",
      "Epoch [100/500], Loss: 0.0120\n",
      "Epoch [110/500], Loss: 0.0130\n",
      "Epoch [120/500], Loss: 0.0122\n",
      "Epoch [130/500], Loss: 0.0162\n",
      "Epoch [140/500], Loss: 0.0107\n",
      "Epoch [150/500], Loss: 0.0164\n",
      "Epoch [160/500], Loss: 0.0159\n",
      "Epoch [170/500], Loss: 0.0076\n",
      "Epoch [180/500], Loss: 0.0111\n",
      "Epoch [190/500], Loss: 0.0106\n",
      "Epoch [200/500], Loss: 0.0147\n",
      "Epoch [210/500], Loss: 0.0185\n",
      "Epoch [220/500], Loss: 0.0155\n",
      "Epoch [230/500], Loss: 0.0190\n",
      "Epoch [240/500], Loss: 0.0151\n",
      "Epoch [250/500], Loss: 0.0144\n",
      "Epoch [260/500], Loss: 0.0129\n",
      "Epoch [270/500], Loss: 0.0077\n",
      "Epoch [280/500], Loss: 0.0112\n",
      "Epoch [290/500], Loss: 0.0122\n",
      "Epoch [300/500], Loss: 0.0126\n",
      "Epoch [310/500], Loss: 0.0175\n",
      "Epoch [320/500], Loss: 0.0142\n",
      "Epoch [330/500], Loss: 0.0218\n",
      "Epoch [340/500], Loss: 0.0077\n",
      "Epoch [350/500], Loss: 0.0093\n",
      "Epoch [360/500], Loss: 0.0162\n",
      "Epoch [370/500], Loss: 0.0136\n",
      "Epoch [380/500], Loss: 0.0200\n",
      "Epoch [390/500], Loss: 0.0167\n",
      "Epoch [400/500], Loss: 0.0119\n",
      "Epoch [410/500], Loss: 0.0122\n",
      "Epoch [420/500], Loss: 0.0077\n",
      "Epoch [430/500], Loss: 0.0143\n",
      "Epoch [440/500], Loss: 0.0126\n",
      "Epoch [450/500], Loss: 0.0075\n",
      "Epoch [460/500], Loss: 0.0140\n",
      "Epoch [470/500], Loss: 0.0136\n",
      "Epoch [480/500], Loss: 0.0169\n",
      "Epoch [490/500], Loss: 0.0220\n",
      "Epoch [500/500], Loss: 0.0112\n"
     ]
    }
   ],
   "source": [
    "# 学習ループ\n",
    "for epoch in range(num_epochs):\n",
    "    # データの生成\n",
    "    x, y = generate_sine_wave(sequence_length, batch_size, noise_level)\n",
    "\n",
    "    # 順伝播\n",
    "    outputs = model(x)\n",
    "    loss = criterion(outputs, y)\n",
    "\n",
    "    # 逆伝播と最適化\n",
    "    optimizer.zero_grad()\n",
    "    loss.backward()\n",
    "    optimizer.step()\n",
    "\n",
    "    # 損失の表示\n",
    "    if (epoch+1) % 10 == 0:\n",
    "        print(f'Epoch [{epoch+1}/{num_epochs}], Loss: {loss.item():.4f}')"
   ]
  },
  {
   "cell_type": "markdown",
   "id": "62a65c22-ef53-420e-8b5a-538ef901ea6c",
   "metadata": {},
   "source": [
    "**説明:**\n",
    "\n",
    "*   学習ループは、指定されたエポック数だけ繰り返されます。\n",
    "*   各エポックにおいて、以下の処理を行います。\n",
    "    *   `x, y = generate_sine_wave(sequence_length, batch_size, noise_level)`: ノイズを含む正弦波データを生成します。\n",
    "    *   `outputs = model(x)`: モデルに入力データを渡して、出力を得ます。\n",
    "    *   `loss = criterion(outputs, y)`: 損失を計算します。\n",
    "    *   `optimizer.zero_grad()`: 勾配をゼロに初期化します。\n",
    "    *   `loss.backward()`: 勾配を計算します。\n",
    "    *   `optimizer.step()`: モデルのパラメータを更新します。\n",
    "    *   定期的に損失を表示します。"
   ]
  },
  {
   "cell_type": "code",
   "execution_count": 82,
   "id": "f35b195b-2469-4767-bb15-c288ad577693",
   "metadata": {},
   "outputs": [
    {
     "data": {
      "image/png": "[encoded data removed]",
      "text/plain": [
       "<Figure size 640x480 with 1 Axes>"
      ]
     },
     "metadata": {},
     "output_type": "display_data"
    }
   ],
   "source": [
    "# テストと可視化\n",
    "model.eval() # 評価モードに設定\n",
    "with torch.no_grad():\n",
    "    # テストデータの生成\n",
    "    x_test, y_test = generate_sine_wave(sequence_length, batch_size=1, noise_level=noise_level)  # バッチサイズを1に\n",
    "    predicted = model(x_test)\n",
    "\n",
    "    # 結果の可視化\n",
    "    #plt.plot(x_test[0, :, 0].cpu().numpy(), label='Input') # 入力データをプロット\n",
    "    plt.plot(y_test[0, :, 0].cpu().numpy(), label='Target') # ターゲットデータをプロット\n",
    "    plt.plot(predicted.squeeze().cpu().numpy(), label='Prediction') # 予測結果をプロット\n",
    "    plt.legend()\n",
    "    plt.title('Sine Wave Prediction with Noise') # タイトルを修正\n",
    "    plt.xlabel('Time Step')\n",
    "    plt.ylabel('Sine Value')\n",
    "    plt.show()"
   ]
  },
  {
   "cell_type": "markdown",
   "id": "14ef1b1a-ae22-42a5-a7bb-d19858ec8511",
   "metadata": {},
   "source": [
    "**説明:**\n",
    "\n",
    "*   テストフェーズでは、モデルの汎化性能を評価します。\n",
    "*   `model.eval()`: モデルを評価モードに設定します。\n",
    "*   `x_test, y_test = generate_sine_wave(sequence_length, batch_size=1, noise_level=noise_level)`: テストデータを生成します。\n",
    "*   `predicted = model(x_test)`: モデルに入力データを渡して、予測結果を得ます。\n",
    "*   可視化のために、Matplotlibを使用してグラフを作成します。\n",
    "    *   入力データ、ターゲットデータ、予測データをそれぞれプロットします。\n",
    "    *   予測データは、1ステップ右にずらして表示することで、予測の遅れや先行を視覚的に確認できます。\n",
    "    *   グラフに凡例、タイトル、軸ラベルを追加します。\n",
    "\n",
    "この詳細な説明で、各セルの役割とコードの動作をより深く理解できるはずです。"
   ]
  }
 ],
 "metadata": {
  "kernelspec": {
   "display_name": "Python 3 (ipykernel)",
   "language": "python",
   "name": "python3"
  },
  "language_info": {
   "codemirror_mode": {
    "name": "ipython",
    "version": 3
   },
   "file_extension": ".py",
   "mimetype": "text/x-python",
   "name": "python",
   "nbconvert_exporter": "python",
   "pygments_lexer": "ipython3",
   "version": "3.12.3"
  }
 },
 "nbformat": 4,
 "nbformat_minor": 5
}
